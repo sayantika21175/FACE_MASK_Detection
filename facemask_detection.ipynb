{
 "cells": [
  {
   "cell_type": "code",
   "execution_count": 1,
   "id": "d6b28455",
   "metadata": {},
   "outputs": [
    {
     "name": "stdout",
     "output_type": "stream",
     "text": [
      "{'without_mask': 0, 'with_mask': 1}\n",
      "['without_mask', 'with_mask']\n",
      "[0, 1]\n"
     ]
    }
   ],
   "source": [
    "import cv2\n",
    "import os\n",
    "\n",
    "path_of_data=r'D:\\ML_PROJECT\\End_sem\\image'\n",
    "cat=os.listdir(path_of_data)\n",
    "my_labels=[]\n",
    "l=len(cat)\n",
    "for i in range(l):\n",
    "    my_labels.append(i)\n",
    "result=zip(cat,my_labels)\n",
    "dict_of_label=dict(result) #empty dictionary\n",
    "\n",
    "print(dict_of_label)\n",
    "print(cat)\n",
    "print(my_labels)"
   ]
  },
  {
   "cell_type": "code",
   "execution_count": null,
   "id": "fd2af814",
   "metadata": {},
   "outputs": [],
   "source": [
    "my_data=[]\n",
    "target_list=[]\n",
    "size_image=100\n",
    "\n",
    "\n",
    "for c in cat:\n",
    "    path_folder=os.path.join(path_of_data,c)\n",
    "    \n",
    "    names_of_img=os.listdir(path_folder)\n",
    "        \n",
    "    for k in names_of_img:\n",
    "        path_image=os.path.join(path_folder,k)\n",
    "        img=cv2.imread(path_image)\n",
    "        \n",
    "        #Coverting the image into gray scale\n",
    "        gray=cv2.cvtColor(img,cv2.COLOR_BGR2GRAY)           \n",
    "        \n",
    "        #resizing the gray scale into 50x50, since we need a fixed common size for all the images in the dataset\n",
    "        resized_image=cv2.resize(gray,(size_image,size_image))\n",
    "        \n",
    "        #appending the image and the label(categorized) into the list (dataset)\n",
    "        my_data.append(resized_image)\n",
    "        target_list.append(dict_of_label[c])\n",
    "        \n",
    "\n",
    "       "
   ]
  },
  {
   "cell_type": "code",
   "execution_count": null,
   "id": "00890038",
   "metadata": {},
   "outputs": [],
   "source": [
    "import numpy as np\n",
    "from keras.utils import np_utils\n",
    "\n",
    "my_data=np.array(my_data)\n",
    "max_pixel=my_data.max()\n",
    "my_data=my_data/max_pixel\n",
    "no_of_rows=my_data.shape[0]\n",
    "my_data=np.reshape(my_data,(no_of_rows,size_image,size_image,1))\n",
    "target_list=np.array(target_list)\n",
    "\n",
    "new_target_list=np_utils.to_categorical(target_list)\n"
   ]
  },
  {
   "cell_type": "code",
   "execution_count": null,
   "id": "9bc396cf",
   "metadata": {},
   "outputs": [],
   "source": [
    "# saving the data in npy format\n",
    "np.save('prepared_data',my_data)\n",
    "np.save('target_val',new_target_list)"
   ]
  },
  {
   "cell_type": "code",
   "execution_count": null,
   "id": "77b1bf8a",
   "metadata": {},
   "outputs": [],
   "source": [
    "import numpy as np\n",
    "\n",
    "#loading the save numpy arrays in the previous code\n",
    "\n",
    "data_prepared=np.load('prepared_data.npy')\n",
    "target_value=np.load('target_val.npy')\n",
    "\n"
   ]
  },
  {
   "cell_type": "code",
   "execution_count": null,
   "id": "cb687094",
   "metadata": {},
   "outputs": [],
   "source": [
    "from keras.models import Sequential\n",
    "from keras.layers import Dense,Activation,Flatten,Dropout\n",
    "from keras.layers import Conv2D,MaxPooling2D\n",
    "from keras.callbacks import ModelCheckpoint\n",
    "\n",
    "model_used=Sequential()\n",
    "\n",
    "model_used.add(Conv2D(200,(3,3),input_shape=data_prepared.shape[1:]))\n",
    "model_used.add(Activation('relu'))\n",
    "model_used.add(MaxPooling2D(pool_size=(2,2)))\n",
    "#The first CNN layer followed by Relu and MaxPooling layers\n",
    "\n",
    "model_used.add(Conv2D(100,(3,3)))\n",
    "model_used.add(Activation('relu'))\n",
    "model_used.add(MaxPooling2D(pool_size=(2,2)))\n",
    "#The second convolution layer followed by Relu and MaxPooling layers\n",
    "\n",
    "model_used.add(Flatten())\n",
    "model_used.add(Dropout(0.5))\n",
    "#Flatten layer to stack the output convolutions from second convolution layer\n",
    "model_used.add(Dense(50,activation='relu'))\n",
    "#Dense layer of 64 neurons\n",
    "model_used.add(Dense(2,activation='softmax'))\n",
    "#The Final layer with two outputs for two categories\n",
    "\n",
    "model_used.compile(loss='categorical_crossentropy',optimizer='adam',metrics=['accuracy'])"
   ]
  },
  {
   "cell_type": "code",
   "execution_count": null,
   "id": "0e20ae27",
   "metadata": {},
   "outputs": [],
   "source": [
    "from sklearn.model_selection import train_test_split\n",
    "\n",
    "training_data,test_data,training_target,test_target=train_test_split(data_prepared,target_value,test_size=0.2,random_state=10,stratify=target_value)"
   ]
  },
  {
   "cell_type": "code",
   "execution_count": null,
   "id": "f130884c",
   "metadata": {},
   "outputs": [],
   "source": [
    "compilation = ModelCheckpoint('model-{epoch:03d}.model',monitor='val_loss',verbose=0,save_best_only=True,mode='auto')\n",
    "final_model=model_used.fit(training_data,training_target,epochs=10,callbacks=[compilation],validation_data=(test_data,test_target))"
   ]
  },
  {
   "cell_type": "code",
   "execution_count": null,
   "id": "9bc42736",
   "metadata": {
    "scrolled": true
   },
   "outputs": [],
   "source": [
    "from matplotlib import pyplot as plt\n",
    "\n",
    "plt.plot(final_model.history['loss'],'r',label='Training Loss')\n",
    "plt.plot(final_model.history['val_loss'],'g',label='Validation Loss')\n",
    "plt.xlabel('epochs')\n",
    "plt.ylabel('loss')\n",
    "plt.legend()\n",
    "plt.show()"
   ]
  },
  {
   "cell_type": "code",
   "execution_count": null,
   "id": "99e86005",
   "metadata": {},
   "outputs": [],
   "source": [
    "plt.plot(final_model.history['accuracy'],'r',label='Training accuracy')\n",
    "plt.plot(final_model.history['val_accuracy'],label='Validation accuracy')\n",
    "plt.xlabel('epochs')\n",
    "plt.ylabel('Accuracy')\n",
    "plt.legend()\n",
    "plt.show()"
   ]
  },
  {
   "cell_type": "code",
   "execution_count": null,
   "id": "d3765e67",
   "metadata": {},
   "outputs": [],
   "source": [
    "print(model_used.evaluate(test_data,test_target))"
   ]
  },
  {
   "cell_type": "code",
   "execution_count": null,
   "id": "e98f7985",
   "metadata": {},
   "outputs": [],
   "source": [
    "from keras.models import load_model\n",
    "import cv2\n",
    "import numpy as np"
   ]
  },
  {
   "cell_type": "code",
   "execution_count": null,
   "id": "dfc0736b",
   "metadata": {},
   "outputs": [],
   "source": [
    "my_model = load_model('model-005.model')\n",
    "\n",
    "face_dtctr=cv2.CascadeClassifier('haarcascade_frontalface_default.xml')\n",
    "\n",
    "video=cv2.VideoCapture(0)\n",
    "\n",
    "labels_face={0:'NO MASK',1:'WITH MASK'}\n",
    "color_dict={1:(0,255,0),0:(0,0,255)}"
   ]
  },
  {
   "cell_type": "code",
   "execution_count": null,
   "id": "597efaf9",
   "metadata": {},
   "outputs": [],
   "source": [
    "while(True):\n",
    "\n",
    "    r,image1=video.read()\n",
    "    gray=cv2.cvtColor(image1,cv2.COLOR_BGR2GRAY)\n",
    "    faces=face_dtctr.detectMultiScale(gray,1.08,5)  \n",
    "\n",
    "    for (x,y,w,h) in faces:\n",
    "    \n",
    "        face_image=gray[y:y+w,x:x+w]\n",
    "        resized=cv2.resize(face_image,(100,100))\n",
    "        resized_new=resized/255.0\n",
    "        final_image=np.reshape(resized_new,(1,100,100,1))\n",
    "        res=my_model.predict(final_image)\n",
    "        label1=np.argmax(res,axis=1)\n",
    "        label=label1[0]\n",
    "        color_given = (255, 255, 255)\n",
    "        cv2.rectangle(image1,(x,y),(x+w,y+h),color_dict[label],3)\n",
    "        cv2.rectangle(image1,(x,y-48),(x+w,y),color_given,-1)\n",
    "        cv2.putText(image1, labels_face[label], (x, y-9),cv2.FONT_HERSHEY_SIMPLEX,0.9,(128,0,0),2)\n",
    "        \n",
    "        \n",
    "    cv2.imshow('LIVE',image1)\n",
    "    key_used=cv2.waitKey(1)\n",
    "    \n",
    "    if(key_used==27):\n",
    "        break\n",
    "        \n",
    "cv2.destroyAllWindows()\n",
    "video.release()"
   ]
  },
  {
   "cell_type": "code",
   "execution_count": null,
   "id": "03044d62",
   "metadata": {},
   "outputs": [],
   "source": [
    " "
   ]
  }
 ],
 "metadata": {
  "kernelspec": {
   "display_name": "Python 3 (ipykernel)",
   "language": "python",
   "name": "python3"
  },
  "language_info": {
   "codemirror_mode": {
    "name": "ipython",
    "version": 3
   },
   "file_extension": ".py",
   "mimetype": "text/x-python",
   "name": "python",
   "nbconvert_exporter": "python",
   "pygments_lexer": "ipython3",
   "version": "3.9.7"
  }
 },
 "nbformat": 4,
 "nbformat_minor": 5
}
